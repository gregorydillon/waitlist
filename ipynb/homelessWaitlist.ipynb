{
 "cells": [
  {
   "cell_type": "markdown",
   "metadata": {},
   "source": [
    "#   Ipython notebook for exploring SF opendata on homeless waitlist"
   ]
  },
  {
   "cell_type": "raw",
   "metadata": {},
   "source": [
    "https://data.sfgov.org/Health-and-Social-Services/HSA-90-day-emergency-shelter-waitlist/w4sk-nq57"
   ]
  },
  {
   "cell_type": "code",
   "execution_count": 2,
   "metadata": {
    "collapsed": false
   },
   "outputs": [],
   "source": [
    "import numpy as np\n",
    "import pandas as pd\n",
    "import matplotlib as plt\n",
    "import h5py"
   ]
  },
  {
   "cell_type": "code",
   "execution_count": 3,
   "metadata": {
    "collapsed": false
   },
   "outputs": [
    {
     "name": "stdout",
     "output_type": "stream",
     "text": [
      "https://data.sfgov.org/resource/5pja-2btv.csv\n",
      "https://data.sfgov.org/resource/5pja-2btv.csv?$offset=1000\n"
     ]
    }
   ],
   "source": [
    "url = 'https://data.sfgov.org/resource/5pja-2btv.json'\n",
    "url = url[:-4]+'csv'\n",
    "print(url)\n",
    "url2 = url+\"?$offset=1000\"\n",
    "print(url2)\n"
   ]
  },
  {
   "cell_type": "code",
   "execution_count": 4,
   "metadata": {
    "collapsed": true
   },
   "outputs": [],
   "source": [
    "df = pd.read_csv(url)\n",
    "df2 = pd.read_csv(url2)\n"
   ]
  },
  {
   "cell_type": "code",
   "execution_count": 5,
   "metadata": {
    "collapsed": false
   },
   "outputs": [
    {
     "name": "stdout",
     "output_type": "stream",
     "text": [
      "1000\n",
      "31\n"
     ]
    }
   ],
   "source": [
    "print(len(df))\n",
    "print(len(df2))"
   ]
  },
  {
   "cell_type": "code",
   "execution_count": 6,
   "metadata": {
    "collapsed": false
   },
   "outputs": [
    {
     "data": {
      "text/plain": [
       "1031"
      ]
     },
     "execution_count": 6,
     "metadata": {},
     "output_type": "execute_result"
    }
   ],
   "source": [
    "\n",
    "df = pd.concat([df,df2])\n",
    "len(df)"
   ]
  },
  {
   "cell_type": "code",
   "execution_count": 7,
   "metadata": {
    "collapsed": false
   },
   "outputs": [
    {
     "data": {
      "text/html": [
       "<div>\n",
       "<table border=\"1\" class=\"dataframe\">\n",
       "  <thead>\n",
       "    <tr style=\"text-align: right;\">\n",
       "      <th></th>\n",
       "      <th>caseid</th>\n",
       "      <th>dob</th>\n",
       "      <th>message</th>\n",
       "      <th>position_number</th>\n",
       "      <th>reservation_seniority</th>\n",
       "      <th>txtchangesid</th>\n",
       "    </tr>\n",
       "  </thead>\n",
       "  <tbody>\n",
       "    <tr>\n",
       "      <th>0</th>\n",
       "      <td>6440433</td>\n",
       "      <td>01-20-1985</td>\n",
       "      <td>Please call 311 between 8:30AM and 4:30PM, Mon...</td>\n",
       "      <td>23</td>\n",
       "      <td>16295010</td>\n",
       "      <td>18818</td>\n",
       "    </tr>\n",
       "    <tr>\n",
       "      <th>1</th>\n",
       "      <td>6444118</td>\n",
       "      <td>06-02-1982</td>\n",
       "      <td>Please call 311 between 8:30AM and 4:30PM, Mon...</td>\n",
       "      <td>24</td>\n",
       "      <td>16295014</td>\n",
       "      <td>377230</td>\n",
       "    </tr>\n",
       "  </tbody>\n",
       "</table>\n",
       "</div>"
      ],
      "text/plain": [
       "    caseid         dob                                            message  \\\n",
       "0  6440433  01-20-1985  Please call 311 between 8:30AM and 4:30PM, Mon...   \n",
       "1  6444118  06-02-1982  Please call 311 between 8:30AM and 4:30PM, Mon...   \n",
       "\n",
       "   position_number  reservation_seniority  txtchangesid  \n",
       "0               23               16295010         18818  \n",
       "1               24               16295014        377230  "
      ]
     },
     "execution_count": 7,
     "metadata": {},
     "output_type": "execute_result"
    }
   ],
   "source": [
    "df.head(2)"
   ]
  },
  {
   "cell_type": "code",
   "execution_count": 8,
   "metadata": {
    "collapsed": false
   },
   "outputs": [],
   "source": [
    "df = df.sort_values(by = 'reservation_seniority')"
   ]
  },
  {
   "cell_type": "code",
   "execution_count": 9,
   "metadata": {
    "collapsed": false,
    "scrolled": true
   },
   "outputs": [
    {
     "data": {
      "text/html": [
       "<div>\n",
       "<table border=\"1\" class=\"dataframe\">\n",
       "  <thead>\n",
       "    <tr style=\"text-align: right;\">\n",
       "      <th></th>\n",
       "      <th>caseid</th>\n",
       "      <th>dob</th>\n",
       "      <th>message</th>\n",
       "      <th>position_number</th>\n",
       "      <th>reservation_seniority</th>\n",
       "      <th>txtchangesid</th>\n",
       "    </tr>\n",
       "  </thead>\n",
       "  <tbody>\n",
       "    <tr>\n",
       "      <th>16</th>\n",
       "      <td>6427207</td>\n",
       "      <td>07-12-1978</td>\n",
       "      <td>Please call 311 between 8:30AM and 4:30PM, Mon...</td>\n",
       "      <td>1</td>\n",
       "      <td>16291006</td>\n",
       "      <td>393464</td>\n",
       "    </tr>\n",
       "    <tr>\n",
       "      <th>34</th>\n",
       "      <td>6430436</td>\n",
       "      <td>03-31-1970</td>\n",
       "      <td>Please call 311 between 8:30AM and 4:30PM, Mon...</td>\n",
       "      <td>2</td>\n",
       "      <td>16292002</td>\n",
       "      <td>47818</td>\n",
       "    </tr>\n",
       "    <tr>\n",
       "      <th>10</th>\n",
       "      <td>6431221</td>\n",
       "      <td>01-12-1970</td>\n",
       "      <td>Please call 311 between 8:30AM and 4:30PM, Mon...</td>\n",
       "      <td>3</td>\n",
       "      <td>16292005</td>\n",
       "      <td>349843</td>\n",
       "    </tr>\n",
       "    <tr>\n",
       "      <th>22</th>\n",
       "      <td>6427476</td>\n",
       "      <td>05-20-1992</td>\n",
       "      <td>Please call 311 between 8:30AM and 4:30PM, Mon...</td>\n",
       "      <td>4</td>\n",
       "      <td>16292015</td>\n",
       "      <td>396863</td>\n",
       "    </tr>\n",
       "    <tr>\n",
       "      <th>26</th>\n",
       "      <td>6428295</td>\n",
       "      <td>07-19-1976</td>\n",
       "      <td>Please call 311 between 8:30AM and 4:30PM, Mon...</td>\n",
       "      <td>5</td>\n",
       "      <td>16292016</td>\n",
       "      <td>325121</td>\n",
       "    </tr>\n",
       "  </tbody>\n",
       "</table>\n",
       "</div>"
      ],
      "text/plain": [
       "     caseid         dob                                            message  \\\n",
       "16  6427207  07-12-1978  Please call 311 between 8:30AM and 4:30PM, Mon...   \n",
       "34  6430436  03-31-1970  Please call 311 between 8:30AM and 4:30PM, Mon...   \n",
       "10  6431221  01-12-1970  Please call 311 between 8:30AM and 4:30PM, Mon...   \n",
       "22  6427476  05-20-1992  Please call 311 between 8:30AM and 4:30PM, Mon...   \n",
       "26  6428295  07-19-1976  Please call 311 between 8:30AM and 4:30PM, Mon...   \n",
       "\n",
       "    position_number  reservation_seniority  txtchangesid  \n",
       "16                1               16291006        393464  \n",
       "34                2               16292002         47818  \n",
       "10                3               16292005        349843  \n",
       "22                4               16292015        396863  \n",
       "26                5               16292016        325121  "
      ]
     },
     "execution_count": 9,
     "metadata": {},
     "output_type": "execute_result"
    }
   ],
   "source": [
    "df.head()"
   ]
  },
  {
   "cell_type": "code",
   "execution_count": 10,
   "metadata": {
    "collapsed": false
   },
   "outputs": [
    {
     "data": {
      "text/plain": [
       "<bound method IndexOpsMixin.value_counts of 16     16291006\n",
       "34     16292002\n",
       "10     16292005\n",
       "22     16292015\n",
       "26     16292016\n",
       "24     16292027\n",
       "30     16293004\n",
       "13     16293008\n",
       "25     16293011\n",
       "67     16293021\n",
       "15     16293023\n",
       "35     16293024\n",
       "31     16293026\n",
       "37     16293029\n",
       "19     16294008\n",
       "17     16294009\n",
       "14     16294011\n",
       "23     16294015\n",
       "7      16294016\n",
       "38     16294017\n",
       "4      16294022\n",
       "5      16295002\n",
       "0      16295010\n",
       "1      16295014\n",
       "3      16295017\n",
       "73     16295020\n",
       "215    16296005\n",
       "562    16296014\n",
       "473    16296015\n",
       "74     16297004\n",
       "         ...   \n",
       "24     16350001\n",
       "285    16350002\n",
       "111    16350003\n",
       "78     16350004\n",
       "513    16350005\n",
       "56     16350006\n",
       "817    16350007\n",
       "399    16350008\n",
       "597    16350009\n",
       "740    16350010\n",
       "319    16350011\n",
       "819    16350012\n",
       "798    16350013\n",
       "581    16350014\n",
       "572    16350015\n",
       "346    16350016\n",
       "11     16350017\n",
       "267    16350018\n",
       "442    16350019\n",
       "265    16350020\n",
       "673    16350021\n",
       "792    16350022\n",
       "423    16350023\n",
       "165    16350024\n",
       "292    16350025\n",
       "578    16350026\n",
       "450    16350027\n",
       "329    16350028\n",
       "18     16350029\n",
       "456    16350030\n",
       "Name: reservation_seniority, dtype: int64>"
      ]
     },
     "execution_count": 10,
     "metadata": {},
     "output_type": "execute_result"
    }
   ],
   "source": [
    "df.reservation_seniority.value_counts"
   ]
  },
  {
   "cell_type": "code",
   "execution_count": 11,
   "metadata": {
    "collapsed": false
   },
   "outputs": [
    {
     "data": {
      "text/plain": [
       "count    1.031000e+03\n",
       "mean     1.632770e+07\n",
       "std      1.480460e+04\n",
       "min      1.629101e+07\n",
       "25%      1.631602e+07\n",
       "50%      1.632803e+07\n",
       "75%      1.634101e+07\n",
       "max      1.635003e+07\n",
       "Name: reservation_seniority, dtype: float64"
      ]
     },
     "execution_count": 11,
     "metadata": {},
     "output_type": "execute_result"
    }
   ],
   "source": [
    "df.reservation_seniority.describe()"
   ]
  },
  {
   "cell_type": "code",
   "execution_count": 12,
   "metadata": {
    "collapsed": false
   },
   "outputs": [
    {
     "name": "stdout",
     "output_type": "stream",
     "text": [
      "<class 'pandas.core.series.Series'>\n",
      "2    07-31-1960\n",
      "2    09-15-1982\n",
      "Name: dob, dtype: object\n"
     ]
    }
   ],
   "source": [
    "caseOne = df.dob[2]\n",
    "print(type(caseOne))\n",
    "print(caseOne)"
   ]
  },
  {
   "cell_type": "code",
   "execution_count": 13,
   "metadata": {
    "collapsed": false
   },
   "outputs": [
    {
     "data": {
      "text/html": [
       "<div>\n",
       "<table border=\"1\" class=\"dataframe\">\n",
       "  <thead>\n",
       "    <tr style=\"text-align: right;\">\n",
       "      <th></th>\n",
       "      <th>caseid</th>\n",
       "      <th>dob</th>\n",
       "      <th>message</th>\n",
       "      <th>position_number</th>\n",
       "      <th>reservation_seniority</th>\n",
       "      <th>txtchangesid</th>\n",
       "    </tr>\n",
       "  </thead>\n",
       "  <tbody>\n",
       "    <tr>\n",
       "      <th>432</th>\n",
       "      <td>6623983</td>\n",
       "      <td>10-24-1985</td>\n",
       "      <td>NaN</td>\n",
       "      <td>992</td>\n",
       "      <td>16349012</td>\n",
       "      <td>289959</td>\n",
       "    </tr>\n",
       "    <tr>\n",
       "      <th>531</th>\n",
       "      <td>6623697</td>\n",
       "      <td>06-22-1960</td>\n",
       "      <td>NaN</td>\n",
       "      <td>993</td>\n",
       "      <td>16349013</td>\n",
       "      <td>275814</td>\n",
       "    </tr>\n",
       "    <tr>\n",
       "      <th>549</th>\n",
       "      <td>6626059</td>\n",
       "      <td>06-12-1958</td>\n",
       "      <td>NaN</td>\n",
       "      <td>994</td>\n",
       "      <td>16349014</td>\n",
       "      <td>373619</td>\n",
       "    </tr>\n",
       "    <tr>\n",
       "      <th>620</th>\n",
       "      <td>6625417</td>\n",
       "      <td>04-10-1991</td>\n",
       "      <td>NaN</td>\n",
       "      <td>995</td>\n",
       "      <td>16349015</td>\n",
       "      <td>378272</td>\n",
       "    </tr>\n",
       "    <tr>\n",
       "      <th>614</th>\n",
       "      <td>6623833</td>\n",
       "      <td>05-05-1978</td>\n",
       "      <td>NaN</td>\n",
       "      <td>996</td>\n",
       "      <td>16349016</td>\n",
       "      <td>363254</td>\n",
       "    </tr>\n",
       "    <tr>\n",
       "      <th>433</th>\n",
       "      <td>6624633</td>\n",
       "      <td>01-01-1974</td>\n",
       "      <td>NaN</td>\n",
       "      <td>997</td>\n",
       "      <td>16349017</td>\n",
       "      <td>398135</td>\n",
       "    </tr>\n",
       "    <tr>\n",
       "      <th>101</th>\n",
       "      <td>6623718</td>\n",
       "      <td>07-15-1968</td>\n",
       "      <td>NaN</td>\n",
       "      <td>998</td>\n",
       "      <td>16349018</td>\n",
       "      <td>662371</td>\n",
       "    </tr>\n",
       "    <tr>\n",
       "      <th>912</th>\n",
       "      <td>6623791</td>\n",
       "      <td>05-04-1972</td>\n",
       "      <td>NaN</td>\n",
       "      <td>999</td>\n",
       "      <td>16349019</td>\n",
       "      <td>16609</td>\n",
       "    </tr>\n",
       "    <tr>\n",
       "      <th>221</th>\n",
       "      <td>6623470</td>\n",
       "      <td>06-21-1961</td>\n",
       "      <td>NaN</td>\n",
       "      <td>1000</td>\n",
       "      <td>16349020</td>\n",
       "      <td>298268</td>\n",
       "    </tr>\n",
       "    <tr>\n",
       "      <th>453</th>\n",
       "      <td>6622834</td>\n",
       "      <td>07-27-1991</td>\n",
       "      <td>NaN</td>\n",
       "      <td>1001</td>\n",
       "      <td>16349021</td>\n",
       "      <td>272042</td>\n",
       "    </tr>\n",
       "    <tr>\n",
       "      <th>24</th>\n",
       "      <td>6627858</td>\n",
       "      <td>06-07-1955</td>\n",
       "      <td>NaN</td>\n",
       "      <td>1002</td>\n",
       "      <td>16350001</td>\n",
       "      <td>363604</td>\n",
       "    </tr>\n",
       "    <tr>\n",
       "      <th>285</th>\n",
       "      <td>6629335</td>\n",
       "      <td>05-27-1962</td>\n",
       "      <td>NaN</td>\n",
       "      <td>1003</td>\n",
       "      <td>16350002</td>\n",
       "      <td>357772</td>\n",
       "    </tr>\n",
       "    <tr>\n",
       "      <th>111</th>\n",
       "      <td>6629577</td>\n",
       "      <td>04-30-1955</td>\n",
       "      <td>NaN</td>\n",
       "      <td>1004</td>\n",
       "      <td>16350003</td>\n",
       "      <td>295016</td>\n",
       "    </tr>\n",
       "    <tr>\n",
       "      <th>78</th>\n",
       "      <td>6628684</td>\n",
       "      <td>01-19-1951</td>\n",
       "      <td>NaN</td>\n",
       "      <td>1005</td>\n",
       "      <td>16350004</td>\n",
       "      <td>393560</td>\n",
       "    </tr>\n",
       "    <tr>\n",
       "      <th>513</th>\n",
       "      <td>6627182</td>\n",
       "      <td>09-12-1980</td>\n",
       "      <td>NaN</td>\n",
       "      <td>1006</td>\n",
       "      <td>16350005</td>\n",
       "      <td>298438</td>\n",
       "    </tr>\n",
       "    <tr>\n",
       "      <th>56</th>\n",
       "      <td>6628807</td>\n",
       "      <td>01-13-1987</td>\n",
       "      <td>NaN</td>\n",
       "      <td>1007</td>\n",
       "      <td>16350006</td>\n",
       "      <td>390665</td>\n",
       "    </tr>\n",
       "    <tr>\n",
       "      <th>817</th>\n",
       "      <td>6627889</td>\n",
       "      <td>01-07-1951</td>\n",
       "      <td>NaN</td>\n",
       "      <td>1008</td>\n",
       "      <td>16350007</td>\n",
       "      <td>30539</td>\n",
       "    </tr>\n",
       "    <tr>\n",
       "      <th>399</th>\n",
       "      <td>6627876</td>\n",
       "      <td>03-31-1961</td>\n",
       "      <td>NaN</td>\n",
       "      <td>1009</td>\n",
       "      <td>16350008</td>\n",
       "      <td>344757</td>\n",
       "    </tr>\n",
       "    <tr>\n",
       "      <th>597</th>\n",
       "      <td>6627959</td>\n",
       "      <td>03-26-1985</td>\n",
       "      <td>NaN</td>\n",
       "      <td>1010</td>\n",
       "      <td>16350009</td>\n",
       "      <td>309945</td>\n",
       "    </tr>\n",
       "    <tr>\n",
       "      <th>740</th>\n",
       "      <td>6626412</td>\n",
       "      <td>09-17-1965</td>\n",
       "      <td>NaN</td>\n",
       "      <td>1011</td>\n",
       "      <td>16350010</td>\n",
       "      <td>290916</td>\n",
       "    </tr>\n",
       "    <tr>\n",
       "      <th>319</th>\n",
       "      <td>6629656</td>\n",
       "      <td>09-30-1962</td>\n",
       "      <td>NaN</td>\n",
       "      <td>1012</td>\n",
       "      <td>16350011</td>\n",
       "      <td>8968</td>\n",
       "    </tr>\n",
       "    <tr>\n",
       "      <th>819</th>\n",
       "      <td>6627816</td>\n",
       "      <td>10-30-1973</td>\n",
       "      <td>NaN</td>\n",
       "      <td>1013</td>\n",
       "      <td>16350012</td>\n",
       "      <td>19267</td>\n",
       "    </tr>\n",
       "    <tr>\n",
       "      <th>798</th>\n",
       "      <td>6629208</td>\n",
       "      <td>02-18-1964</td>\n",
       "      <td>NaN</td>\n",
       "      <td>1014</td>\n",
       "      <td>16350013</td>\n",
       "      <td>36523</td>\n",
       "    </tr>\n",
       "    <tr>\n",
       "      <th>581</th>\n",
       "      <td>6629315</td>\n",
       "      <td>10-14-1956</td>\n",
       "      <td>NaN</td>\n",
       "      <td>1015</td>\n",
       "      <td>16350014</td>\n",
       "      <td>397883</td>\n",
       "    </tr>\n",
       "    <tr>\n",
       "      <th>572</th>\n",
       "      <td>6627778</td>\n",
       "      <td>06-25-1979</td>\n",
       "      <td>NaN</td>\n",
       "      <td>1016</td>\n",
       "      <td>16350015</td>\n",
       "      <td>299447</td>\n",
       "    </tr>\n",
       "    <tr>\n",
       "      <th>346</th>\n",
       "      <td>6628738</td>\n",
       "      <td>06-12-1956</td>\n",
       "      <td>NaN</td>\n",
       "      <td>1017</td>\n",
       "      <td>16350016</td>\n",
       "      <td>394864</td>\n",
       "    </tr>\n",
       "    <tr>\n",
       "      <th>11</th>\n",
       "      <td>6628015</td>\n",
       "      <td>02-14-1963</td>\n",
       "      <td>NaN</td>\n",
       "      <td>1018</td>\n",
       "      <td>16350017</td>\n",
       "      <td>47968</td>\n",
       "    </tr>\n",
       "    <tr>\n",
       "      <th>267</th>\n",
       "      <td>6629462</td>\n",
       "      <td>10-13-1989</td>\n",
       "      <td>NaN</td>\n",
       "      <td>1019</td>\n",
       "      <td>16350018</td>\n",
       "      <td>394405</td>\n",
       "    </tr>\n",
       "    <tr>\n",
       "      <th>442</th>\n",
       "      <td>6628575</td>\n",
       "      <td>02-20-1943</td>\n",
       "      <td>NaN</td>\n",
       "      <td>1020</td>\n",
       "      <td>16350019</td>\n",
       "      <td>51524</td>\n",
       "    </tr>\n",
       "    <tr>\n",
       "      <th>265</th>\n",
       "      <td>6626524</td>\n",
       "      <td>10-09-1966</td>\n",
       "      <td>NaN</td>\n",
       "      <td>1021</td>\n",
       "      <td>16350020</td>\n",
       "      <td>356207</td>\n",
       "    </tr>\n",
       "    <tr>\n",
       "      <th>673</th>\n",
       "      <td>6629581</td>\n",
       "      <td>12-22-1943</td>\n",
       "      <td>NaN</td>\n",
       "      <td>1022</td>\n",
       "      <td>16350021</td>\n",
       "      <td>279476</td>\n",
       "    </tr>\n",
       "    <tr>\n",
       "      <th>792</th>\n",
       "      <td>6629613</td>\n",
       "      <td>03-20-1962</td>\n",
       "      <td>NaN</td>\n",
       "      <td>1023</td>\n",
       "      <td>16350022</td>\n",
       "      <td>333660</td>\n",
       "    </tr>\n",
       "    <tr>\n",
       "      <th>423</th>\n",
       "      <td>6627328</td>\n",
       "      <td>12-23-1958</td>\n",
       "      <td>NaN</td>\n",
       "      <td>1024</td>\n",
       "      <td>16350023</td>\n",
       "      <td>390004</td>\n",
       "    </tr>\n",
       "    <tr>\n",
       "      <th>165</th>\n",
       "      <td>6627324</td>\n",
       "      <td>11-07-1965</td>\n",
       "      <td>NaN</td>\n",
       "      <td>1025</td>\n",
       "      <td>16350024</td>\n",
       "      <td>381956</td>\n",
       "    </tr>\n",
       "    <tr>\n",
       "      <th>292</th>\n",
       "      <td>6629509</td>\n",
       "      <td>05-22-1969</td>\n",
       "      <td>NaN</td>\n",
       "      <td>1026</td>\n",
       "      <td>16350025</td>\n",
       "      <td>376664</td>\n",
       "    </tr>\n",
       "    <tr>\n",
       "      <th>578</th>\n",
       "      <td>6628016</td>\n",
       "      <td>07-03-1958</td>\n",
       "      <td>NaN</td>\n",
       "      <td>1027</td>\n",
       "      <td>16350026</td>\n",
       "      <td>20071</td>\n",
       "    </tr>\n",
       "    <tr>\n",
       "      <th>450</th>\n",
       "      <td>6628808</td>\n",
       "      <td>12-09-1960</td>\n",
       "      <td>NaN</td>\n",
       "      <td>1028</td>\n",
       "      <td>16350027</td>\n",
       "      <td>398025</td>\n",
       "    </tr>\n",
       "    <tr>\n",
       "      <th>329</th>\n",
       "      <td>6629420</td>\n",
       "      <td>02-01-1951</td>\n",
       "      <td>NaN</td>\n",
       "      <td>1029</td>\n",
       "      <td>16350028</td>\n",
       "      <td>40780</td>\n",
       "    </tr>\n",
       "    <tr>\n",
       "      <th>18</th>\n",
       "      <td>6628566</td>\n",
       "      <td>04-14-1956</td>\n",
       "      <td>NaN</td>\n",
       "      <td>1030</td>\n",
       "      <td>16350029</td>\n",
       "      <td>393110</td>\n",
       "    </tr>\n",
       "    <tr>\n",
       "      <th>456</th>\n",
       "      <td>6628894</td>\n",
       "      <td>11-09-1965</td>\n",
       "      <td>NaN</td>\n",
       "      <td>1031</td>\n",
       "      <td>16350030</td>\n",
       "      <td>18811</td>\n",
       "    </tr>\n",
       "  </tbody>\n",
       "</table>\n",
       "</div>"
      ],
      "text/plain": [
       "      caseid         dob message  position_number  reservation_seniority  \\\n",
       "432  6623983  10-24-1985     NaN              992               16349012   \n",
       "531  6623697  06-22-1960     NaN              993               16349013   \n",
       "549  6626059  06-12-1958     NaN              994               16349014   \n",
       "620  6625417  04-10-1991     NaN              995               16349015   \n",
       "614  6623833  05-05-1978     NaN              996               16349016   \n",
       "433  6624633  01-01-1974     NaN              997               16349017   \n",
       "101  6623718  07-15-1968     NaN              998               16349018   \n",
       "912  6623791  05-04-1972     NaN              999               16349019   \n",
       "221  6623470  06-21-1961     NaN             1000               16349020   \n",
       "453  6622834  07-27-1991     NaN             1001               16349021   \n",
       "24   6627858  06-07-1955     NaN             1002               16350001   \n",
       "285  6629335  05-27-1962     NaN             1003               16350002   \n",
       "111  6629577  04-30-1955     NaN             1004               16350003   \n",
       "78   6628684  01-19-1951     NaN             1005               16350004   \n",
       "513  6627182  09-12-1980     NaN             1006               16350005   \n",
       "56   6628807  01-13-1987     NaN             1007               16350006   \n",
       "817  6627889  01-07-1951     NaN             1008               16350007   \n",
       "399  6627876  03-31-1961     NaN             1009               16350008   \n",
       "597  6627959  03-26-1985     NaN             1010               16350009   \n",
       "740  6626412  09-17-1965     NaN             1011               16350010   \n",
       "319  6629656  09-30-1962     NaN             1012               16350011   \n",
       "819  6627816  10-30-1973     NaN             1013               16350012   \n",
       "798  6629208  02-18-1964     NaN             1014               16350013   \n",
       "581  6629315  10-14-1956     NaN             1015               16350014   \n",
       "572  6627778  06-25-1979     NaN             1016               16350015   \n",
       "346  6628738  06-12-1956     NaN             1017               16350016   \n",
       "11   6628015  02-14-1963     NaN             1018               16350017   \n",
       "267  6629462  10-13-1989     NaN             1019               16350018   \n",
       "442  6628575  02-20-1943     NaN             1020               16350019   \n",
       "265  6626524  10-09-1966     NaN             1021               16350020   \n",
       "673  6629581  12-22-1943     NaN             1022               16350021   \n",
       "792  6629613  03-20-1962     NaN             1023               16350022   \n",
       "423  6627328  12-23-1958     NaN             1024               16350023   \n",
       "165  6627324  11-07-1965     NaN             1025               16350024   \n",
       "292  6629509  05-22-1969     NaN             1026               16350025   \n",
       "578  6628016  07-03-1958     NaN             1027               16350026   \n",
       "450  6628808  12-09-1960     NaN             1028               16350027   \n",
       "329  6629420  02-01-1951     NaN             1029               16350028   \n",
       "18   6628566  04-14-1956     NaN             1030               16350029   \n",
       "456  6628894  11-09-1965     NaN             1031               16350030   \n",
       "\n",
       "     txtchangesid  \n",
       "432        289959  \n",
       "531        275814  \n",
       "549        373619  \n",
       "620        378272  \n",
       "614        363254  \n",
       "433        398135  \n",
       "101        662371  \n",
       "912         16609  \n",
       "221        298268  \n",
       "453        272042  \n",
       "24         363604  \n",
       "285        357772  \n",
       "111        295016  \n",
       "78         393560  \n",
       "513        298438  \n",
       "56         390665  \n",
       "817         30539  \n",
       "399        344757  \n",
       "597        309945  \n",
       "740        290916  \n",
       "319          8968  \n",
       "819         19267  \n",
       "798         36523  \n",
       "581        397883  \n",
       "572        299447  \n",
       "346        394864  \n",
       "11          47968  \n",
       "267        394405  \n",
       "442         51524  \n",
       "265        356207  \n",
       "673        279476  \n",
       "792        333660  \n",
       "423        390004  \n",
       "165        381956  \n",
       "292        376664  \n",
       "578         20071  \n",
       "450        398025  \n",
       "329         40780  \n",
       "18         393110  \n",
       "456         18811  "
      ]
     },
     "execution_count": 13,
     "metadata": {},
     "output_type": "execute_result"
    }
   ],
   "source": [
    "df.tail(40)"
   ]
  },
  {
   "cell_type": "markdown",
   "metadata": {},
   "source": [
    "# how do I change column to_datetime\n",
    "\n",
    "Am I even sure that I want to change this.\n"
   ]
  },
  {
   "cell_type": "code",
   "execution_count": 14,
   "metadata": {
    "collapsed": false
   },
   "outputs": [
    {
     "name": "stdout",
     "output_type": "stream",
     "text": [
      "http://pandas.pydata.org/pandas-docs/stable/generated/pandas.to_datetime.html\n",
      "http://stackoverflow.com/questions/26763344/convert-pandas-column-to-datetime\n"
     ]
    }
   ],
   "source": [
    "print('http://pandas.pydata.org/pandas-docs/stable/generated/pandas.to_datetime.html')\n",
    "print('http://stackoverflow.com/questions/26763344/convert-pandas-column-to-datetime')\n",
    "\n"
   ]
  },
  {
   "cell_type": "code",
   "execution_count": 15,
   "metadata": {
    "collapsed": true
   },
   "outputs": [],
   "source": [
    "#raw_data['Mycol'] =  pd.to_datetime(raw_data['Mycol'], format='%d%b%Y:%H:%M:%S.%f')"
   ]
  },
  {
   "cell_type": "code",
   "execution_count": 16,
   "metadata": {
    "collapsed": false
   },
   "outputs": [],
   "source": [
    "# doesn't work\n",
    "#theawnseris = pd.to_datetime(df['dob'], format='%m-%d-%Y')"
   ]
  },
  {
   "cell_type": "code",
   "execution_count": null,
   "metadata": {
    "collapsed": true
   },
   "outputs": [],
   "source": []
  },
  {
   "cell_type": "code",
   "execution_count": 17,
   "metadata": {
    "collapsed": false
   },
   "outputs": [],
   "source": [
    "# df = df['dob'].pd.to_datetime(format= '%d/%m/%Y')"
   ]
  },
  {
   "cell_type": "code",
   "execution_count": 18,
   "metadata": {
    "collapsed": false
   },
   "outputs": [
    {
     "data": {
      "text/html": [
       "<div>\n",
       "<table border=\"1\" class=\"dataframe\">\n",
       "  <thead>\n",
       "    <tr style=\"text-align: right;\">\n",
       "      <th></th>\n",
       "      <th>caseid</th>\n",
       "      <th>dob</th>\n",
       "      <th>message</th>\n",
       "      <th>position_number</th>\n",
       "      <th>reservation_seniority</th>\n",
       "      <th>txtchangesid</th>\n",
       "    </tr>\n",
       "  </thead>\n",
       "  <tbody>\n",
       "    <tr>\n",
       "      <th>16</th>\n",
       "      <td>6427207</td>\n",
       "      <td>07-12-1978</td>\n",
       "      <td>Please call 311 between 8:30AM and 4:30PM, Mon...</td>\n",
       "      <td>1</td>\n",
       "      <td>16291006</td>\n",
       "      <td>393464</td>\n",
       "    </tr>\n",
       "    <tr>\n",
       "      <th>34</th>\n",
       "      <td>6430436</td>\n",
       "      <td>03-31-1970</td>\n",
       "      <td>Please call 311 between 8:30AM and 4:30PM, Mon...</td>\n",
       "      <td>2</td>\n",
       "      <td>16292002</td>\n",
       "      <td>47818</td>\n",
       "    </tr>\n",
       "    <tr>\n",
       "      <th>10</th>\n",
       "      <td>6431221</td>\n",
       "      <td>01-12-1970</td>\n",
       "      <td>Please call 311 between 8:30AM and 4:30PM, Mon...</td>\n",
       "      <td>3</td>\n",
       "      <td>16292005</td>\n",
       "      <td>349843</td>\n",
       "    </tr>\n",
       "    <tr>\n",
       "      <th>22</th>\n",
       "      <td>6427476</td>\n",
       "      <td>05-20-1992</td>\n",
       "      <td>Please call 311 between 8:30AM and 4:30PM, Mon...</td>\n",
       "      <td>4</td>\n",
       "      <td>16292015</td>\n",
       "      <td>396863</td>\n",
       "    </tr>\n",
       "    <tr>\n",
       "      <th>26</th>\n",
       "      <td>6428295</td>\n",
       "      <td>07-19-1976</td>\n",
       "      <td>Please call 311 between 8:30AM and 4:30PM, Mon...</td>\n",
       "      <td>5</td>\n",
       "      <td>16292016</td>\n",
       "      <td>325121</td>\n",
       "    </tr>\n",
       "  </tbody>\n",
       "</table>\n",
       "</div>"
      ],
      "text/plain": [
       "     caseid         dob                                            message  \\\n",
       "16  6427207  07-12-1978  Please call 311 between 8:30AM and 4:30PM, Mon...   \n",
       "34  6430436  03-31-1970  Please call 311 between 8:30AM and 4:30PM, Mon...   \n",
       "10  6431221  01-12-1970  Please call 311 between 8:30AM and 4:30PM, Mon...   \n",
       "22  6427476  05-20-1992  Please call 311 between 8:30AM and 4:30PM, Mon...   \n",
       "26  6428295  07-19-1976  Please call 311 between 8:30AM and 4:30PM, Mon...   \n",
       "\n",
       "    position_number  reservation_seniority  txtchangesid  \n",
       "16                1               16291006        393464  \n",
       "34                2               16292002         47818  \n",
       "10                3               16292005        349843  \n",
       "22                4               16292015        396863  \n",
       "26                5               16292016        325121  "
      ]
     },
     "execution_count": 18,
     "metadata": {},
     "output_type": "execute_result"
    }
   ],
   "source": [
    "df.head()"
   ]
  },
  {
   "cell_type": "markdown",
   "metadata": {
    "collapsed": true
   },
   "source": [
    "# save so that I can compare with later and other versions\n",
    "\n",
    "see\n"
   ]
  },
  {
   "cell_type": "code",
   "execution_count": 19,
   "metadata": {
    "collapsed": false
   },
   "outputs": [
    {
     "name": "stdout",
     "output_type": "stream",
     "text": [
      "http://stackoverflow.com/questions/17098654/how-to-store-data-frame-using-pandas-python\n"
     ]
    }
   ],
   "source": [
    "print('http://stackoverflow.com/questions/17098654/how-to-store-data-frame-using-pandas-python')"
   ]
  },
  {
   "cell_type": "code",
   "execution_count": 20,
   "metadata": {
    "collapsed": false
   },
   "outputs": [],
   "source": [
    "df.to_pickle('waitlist.pkl')"
   ]
  },
  {
   "cell_type": "code",
   "execution_count": 21,
   "metadata": {
    "collapsed": false
   },
   "outputs": [
    {
     "ename": "NameError",
     "evalue": "name 'HDFStore' is not defined",
     "output_type": "error",
     "traceback": [
      "\u001b[0;31m---------------------------------------------------------------------------\u001b[0m",
      "\u001b[0;31mNameError\u001b[0m                                 Traceback (most recent call last)",
      "\u001b[0;32m<ipython-input-21-de3060b689e6>\u001b[0m in \u001b[0;36m<module>\u001b[0;34m()\u001b[0m\n\u001b[0;32m----> 1\u001b[0;31m \u001b[0mstore\u001b[0m \u001b[0;34m=\u001b[0m \u001b[0mHDFStore\u001b[0m\u001b[0;34m(\u001b[0m\u001b[0;34m'store.h5'\u001b[0m\u001b[0;34m)\u001b[0m\u001b[0;34m\u001b[0m\u001b[0m\n\u001b[0m",
      "\u001b[0;31mNameError\u001b[0m: name 'HDFStore' is not defined"
     ]
    }
   ],
   "source": [
    "store = HDFStore('store.h5')"
   ]
  },
  {
   "cell_type": "code",
   "execution_count": null,
   "metadata": {
    "collapsed": true
   },
   "outputs": [],
   "source": []
  }
 ],
 "metadata": {
  "kernelspec": {
   "display_name": "Python 3",
   "language": "python",
   "name": "python3"
  },
  "language_info": {
   "codemirror_mode": {
    "name": "ipython",
    "version": 3
   },
   "file_extension": ".py",
   "mimetype": "text/x-python",
   "name": "python",
   "nbconvert_exporter": "python",
   "pygments_lexer": "ipython3",
   "version": "3.5.2"
  }
 },
 "nbformat": 4,
 "nbformat_minor": 1
}
